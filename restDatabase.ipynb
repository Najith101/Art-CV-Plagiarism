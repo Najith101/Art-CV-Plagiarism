{
 "cells": [
  {
   "cell_type": "code",
   "execution_count": 5,
   "metadata": {
    "colab": {
     "base_uri": "https://localhost:8080/"
    },
    "executionInfo": {
     "elapsed": 3147,
     "status": "ok",
     "timestamp": 1631655228227,
     "user": {
      "displayName": "utsav vanodiya",
      "photoUrl": "https://lh3.googleusercontent.com/a/default-user=s64",
      "userId": "13250987603702078645"
     },
     "user_tz": 240
    },
    "id": "c0wV8RYKLbS6",
    "outputId": "6fe387ab-4d96-4d21-c308-73d570ba93d0"
   },
   "outputs": [
    {
     "name": "stdout",
     "output_type": "stream",
     "text": [
      "Requirement already satisfied: flask_restful in c:\\users\\dell\\anaconda3\\lib\\site-packages (0.3.9)\n",
      "Requirement already satisfied: Flask>=0.8 in c:\\users\\dell\\anaconda3\\lib\\site-packages (from flask_restful) (1.1.2)\n",
      "Requirement already satisfied: pytz in c:\\users\\dell\\anaconda3\\lib\\site-packages (from flask_restful) (2020.1)\n",
      "Requirement already satisfied: aniso8601>=0.82 in c:\\users\\dell\\anaconda3\\lib\\site-packages (from flask_restful) (9.0.1)\n",
      "Requirement already satisfied: six>=1.3.0 in c:\\users\\dell\\anaconda3\\lib\\site-packages (from flask_restful) (1.15.0)\n",
      "Requirement already satisfied: Jinja2>=2.10.1 in c:\\users\\dell\\anaconda3\\lib\\site-packages (from Flask>=0.8->flask_restful) (2.11.2)\n",
      "Requirement already satisfied: click>=5.1 in c:\\users\\dell\\anaconda3\\lib\\site-packages (from Flask>=0.8->flask_restful) (7.1.2)\n",
      "Requirement already satisfied: itsdangerous>=0.24 in c:\\users\\dell\\anaconda3\\lib\\site-packages (from Flask>=0.8->flask_restful) (1.1.0)\n",
      "Requirement already satisfied: Werkzeug>=0.15 in c:\\users\\dell\\anaconda3\\lib\\site-packages (from Flask>=0.8->flask_restful) (2.0.1)\n",
      "Requirement already satisfied: MarkupSafe>=0.23 in c:\\users\\dell\\anaconda3\\lib\\site-packages (from Jinja2>=2.10.1->Flask>=0.8->flask_restful) (1.1.1)\n"
     ]
    },
    {
     "name": "stderr",
     "output_type": "stream",
     "text": [
      "WARNING: You are using pip version 21.1.2; however, version 21.3.1 is available.\n",
      "You should consider upgrading via the 'c:\\users\\dell\\anaconda3\\python.exe -m pip install --upgrade pip' command.\n"
     ]
    }
   ],
   "source": [
    "!pip install flask_restful"
   ]
  },
  {
   "cell_type": "code",
   "execution_count": 8,
   "metadata": {
    "id": "d4OzWQlmPB0Z"
   },
   "outputs": [],
   "source": [
    "from flask import Flask\n",
    "from flask_restful import Resource,Api,reqparse\n",
    "import sqlite3\n",
    "\n",
    "app = Flask(__name__)\n",
    "api = Api(app)"
   ]
  },
  {
   "cell_type": "code",
   "execution_count": null,
   "metadata": {
    "colab": {
     "background_save": true,
     "base_uri": "https://localhost:8080/"
    },
    "id": "UkPciDzQGI5s",
    "outputId": "df130a23-7fb3-40bc-ceac-d59f9dc299b8"
   },
   "outputs": [
    {
     "name": "stdout",
     "output_type": "stream",
     "text": [
      " * Serving Flask app \"__main__\" (lazy loading)\n",
      " * Environment: production\n",
      "   WARNING: This is a development server. Do not use it in a production deployment.\n",
      "   Use a production WSGI server instead.\n",
      " * Debug mode: off\n"
     ]
    },
    {
     "name": "stderr",
     "output_type": "stream",
     "text": [
      " * Running on http://127.0.0.1:5000/ (Press CTRL+C to quit)\n",
      "127.0.0.1 - - [28/Oct/2021 11:50:43] \"GET / HTTP/1.1\" 400 -\n",
      "127.0.0.1 - - [28/Oct/2021 11:50:44] \"GET /favicon.ico HTTP/1.1\" 404 -\n",
      "127.0.0.1 - - [28/Oct/2021 11:50:47] \"GET / HTTP/1.1\" 400 -\n",
      "127.0.0.1 - - [28/Oct/2021 11:50:58] \"GET / HTTP/1.1\" 400 -\n"
     ]
    }
   ],
   "source": [
    "\n",
    "#arguments required for get request to get a specific art info\n",
    "getDataArgs = reqparse.RequestParser()\n",
    "getDataArgs.add_argument(\"artistID\",type=int,help=\"Artist ID\",required=True)\n",
    "\n",
    "\n",
    "#arguments required for put request to add data\n",
    "addDataArgs = reqparse.RequestParser()\n",
    "addDataArgs.add_argument(\"artistID\",type=int,help=\"Artist ID\",required=True)\n",
    "addDataArgs.add_argument(\"firstName\",type=str,help=\"Artist first name\",required=True)\n",
    "addDataArgs.add_argument(\"lastName\",type=str,help=\"Artist last name\",required=True)\n",
    "addDataArgs.add_argument(\"artID\",type=int,help=\"Art ID\",required=True)\n",
    "addDataArgs.add_argument(\"info\",type=str,help=\"info about art piece\",required=True)\n",
    "addDataArgs.add_argument(\"image\",help=\"info about art piece\",required=True)\n",
    "\n",
    "\n",
    "#arguments required for delete request to delete data\n",
    "delDataArgs = reqparse.RequestParser()\n",
    "delDataArgs.add_argument(\"artistID\",type=int,help=\"Artist ID\",required=True)\n",
    "\n",
    "#arguments required for put request to update data\n",
    "putDataArgs = reqparse.RequestParser()\n",
    "putDataArgs.add_argument(\"artistID\",type=int,help=\"Artist ID\",required=True)\n",
    "putDataArgs.add_argument(\"firstName\",type=str,help=\"Artist first name\",required=True)\n",
    "putDataArgs.add_argument(\"lastName\",type=str,help=\"Artist last name\",required=True)\n",
    "putDataArgs.add_argument(\"artID\",type=int,help=\"Art ID\",required=True)\n",
    "putDataArgs.add_argument(\"info\",type=str,help=\"info about art piece\",required=True)\n",
    "putDataArgs.add_argument(\"image\",help=\"info about art piece\",required=True)\n",
    "\n",
    "\n",
    "#for showing all records\n",
    "class dbmAll(Resource):\n",
    "    def get(self):\n",
    "        #create connection to database. Will be created if it doesnt exist\n",
    "        conn = sqlite3.connect('artInfo.db')\n",
    "\n",
    "        #create cursor instance\n",
    "        c = conn.cursor()\n",
    "\n",
    "        c.execute(\"SELECT artistID, firstName, lastName, artID, info, image FROM Art\")\n",
    "        a = c.fetchall()\n",
    "\n",
    "        #save the changes\n",
    "        conn.commit()\n",
    "        #close the connection\n",
    "        conn.close()\n",
    "\n",
    "        return  {\"All records\":a}\n",
    "\n",
    "#for add/update/delete/and view database records\n",
    "class dbm(Resource):\n",
    "    def get(self):\n",
    "        args = getDataArgs.parse_args()\n",
    "        #create connection to database. Will be created if it doesnt exist\n",
    "        conn = sqlite3.connect('artInfo.db')\n",
    "\n",
    "        #create cursor instance\n",
    "        c = conn.cursor()\n",
    "\n",
    "        c.execute(\"SELECT artistID, firstName, lastName, artID, info, image FROM Art\")\n",
    "        a = c.fetchone()\n",
    "\n",
    "        #save the changes\n",
    "        conn.commit()\n",
    "        #close the connection\n",
    "        conn.close()\n",
    "\n",
    "        return  {\"Found\":a}\n",
    "\n",
    "    def post(self):\n",
    "        args = addDataArgs.parse_args()\n",
    "        #create connection to database\n",
    "        conn = sqlite3.connect('artInfo.db')\n",
    "\n",
    "        #create cursor instance\n",
    "        c = conn.cursor()\n",
    "\n",
    "        c.execute(\"\"\"INSERT INTO Art (artistID, firstName, lastName, artID, info, image)\n",
    "                    VALUES(?,?,?,?,?,?)\"\"\",\n",
    "                    (args[\"artistID\"],args[\"firstName\"],args[\"lastName\"],args[\"artID\"],args[\"info\"],args[\"image\"]))\n",
    "\n",
    "        #save the changes\n",
    "        conn.commit()\n",
    "        #close the connection\n",
    "        conn.close()\n",
    "\n",
    "        return  {\"Added\":args}\n",
    "\n",
    "    def put(self):\n",
    "        args = putDataArgs.parse_args()\n",
    "\n",
    "        conn = sqlite3.connect('artInfo.db')\n",
    "        c = conn.cursor()\n",
    "\n",
    "        c.execute(\"\"\"UPDATE Art SET firstName=?, lastName=?, artID=?, info=?, image=? WHERE artistID=? \"\"\",\n",
    "                   (args[\"firstName\"],args[\"lastName\"],args[\"artID\"],args[\"info\"],args[\"image\"],args[\"artistID\"]))\n",
    "\n",
    "\n",
    "        conn.commit()\n",
    "        conn.close()\n",
    "\n",
    "        return  {\"UPDATED\":args}\n",
    "\n",
    "\n",
    "    def delete(self):\n",
    "\n",
    "        args = delDataArgs.parse_args()\n",
    "\n",
    "        conn = sqlite3.connect('artInfo.db')\n",
    "        c = conn.cursor()\n",
    "\n",
    "        c.execute(\"DELETE FROM Art WHERE artistID=?\", (args[\"artistID\"],))\n",
    "\n",
    "        conn.commit()\n",
    "        conn.close()\n",
    "\n",
    "        return  {\"Deleted\":args}\n",
    "\n",
    "\n",
    "\n",
    "api.add_resource(dbm,'/')\n",
    "api.add_resource(dbmAll,'/all')\n",
    "\n",
    "if __name__ == '__main__':\n",
    "    app.run(port=5000, debug=False, use_reloader=False)"
   ]
  },
  {
   "cell_type": "code",
   "execution_count": null,
   "metadata": {},
   "outputs": [],
   "source": []
  },
  {
   "cell_type": "code",
   "execution_count": null,
   "metadata": {},
   "outputs": [],
   "source": []
  }
 ],
 "metadata": {
  "colab": {
   "name": "restDatabase.ipynb",
   "provenance": []
  },
  "kernelspec": {
   "display_name": "Python 3",
   "language": "python",
   "name": "python3"
  },
  "language_info": {
   "codemirror_mode": {
    "name": "ipython",
    "version": 3
   },
   "file_extension": ".py",
   "mimetype": "text/x-python",
   "name": "python",
   "nbconvert_exporter": "python",
   "pygments_lexer": "ipython3",
   "version": "3.8.3"
  }
 },
 "nbformat": 4,
 "nbformat_minor": 1
}
