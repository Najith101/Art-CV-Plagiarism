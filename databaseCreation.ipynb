{
 "cells": [
  {
   "cell_type": "code",
   "execution_count": 1,
   "metadata": {
    "id": "gqCTYoegEhDw"
   },
   "outputs": [],
   "source": [
    "import pandas as pd"
   ]
  },
  {
   "cell_type": "code",
   "execution_count": 2,
   "metadata": {
    "id": "3xRUgMBXI0Y1"
   },
   "outputs": [],
   "source": [
    "import sqlite3\n",
    "\n",
    "try:\n",
    "  #create connection to database\n",
    "  conn = sqlite3.connect('artInfo.db')\n",
    "\n",
    "  #create cursor instance\n",
    "  c = conn.cursor()\n",
    "\n",
    "  #create the table\n",
    "  c.execute(\"\"\"Create Table Art (\n",
    "           artistID INTEGER PRIMARY KEY,\n",
    "           firstName TEXT,\n",
    "           lastName TEXT,\n",
    "           artID INTEGER,\n",
    "           info TEXT,\n",
    "           photo BLOB NOT NULL  \n",
    "           )\"\"\")\n",
    "\n",
    "  #save the changes\n",
    "  conn.commit()\n",
    "\n",
    "  #close the connection\n",
    "  #conn.close()\n",
    "\n",
    "except sqlite3.Error as error:\n",
    "    print(\"Error while creating a sqlite table\", error)\n",
    "#finally:\n",
    " #   if conn:\n",
    "  ##      conn.close()\n",
    "    #    print(\"sqlite connection is closed\")"
   ]
  }
 ],
 "metadata": {
  "colab": {
   "name": "databaseCreation.ipynb",
   "provenance": []
  },
  "kernelspec": {
   "display_name": "Python 3",
   "language": "python",
   "name": "python3"
  },
  "language_info": {
   "codemirror_mode": {
    "name": "ipython",
    "version": 3
   },
   "file_extension": ".py",
   "mimetype": "text/x-python",
   "name": "python",
   "nbconvert_exporter": "python",
   "pygments_lexer": "ipython3",
   "version": "3.8.3"
  }
 },
 "nbformat": 4,
 "nbformat_minor": 1
}
